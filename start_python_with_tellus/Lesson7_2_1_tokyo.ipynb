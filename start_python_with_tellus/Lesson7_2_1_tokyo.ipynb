{
 "cells": [
  {
   "cell_type": "code",
   "execution_count": 1,
   "metadata": {},
   "outputs": [],
   "source": [
    "# 必要なライブラリのインポート\n",
    "import pandas as pd\n",
    "import numpy as np\n",
    "import matplotlib.pyplot as plt\n",
    "from sklearn.linear_model import LinearRegression\n",
    "%matplotlib inline"
   ]
  },
  {
   "cell_type": "code",
   "execution_count": 2,
   "metadata": {},
   "outputs": [
    {
     "output_type": "execute_result",
     "data": {
      "text/plain": "    集計年  都道府県コード 都道府県名        総人口\n0  1960        1   北海道  5039206.0\n1  1960        2   青森県  1426606.0\n2  1960        3   岩手県  1448517.0\n3  1960        4   宮城県  1743195.0\n4  1960        5   秋田県  1335580.0",
      "text/html": "<div>\n<style scoped>\n    .dataframe tbody tr th:only-of-type {\n        vertical-align: middle;\n    }\n\n    .dataframe tbody tr th {\n        vertical-align: top;\n    }\n\n    .dataframe thead th {\n        text-align: right;\n    }\n</style>\n<table border=\"1\" class=\"dataframe\">\n  <thead>\n    <tr style=\"text-align: right;\">\n      <th></th>\n      <th>集計年</th>\n      <th>都道府県コード</th>\n      <th>都道府県名</th>\n      <th>総人口</th>\n    </tr>\n  </thead>\n  <tbody>\n    <tr>\n      <th>0</th>\n      <td>1960</td>\n      <td>1</td>\n      <td>北海道</td>\n      <td>5039206.0</td>\n    </tr>\n    <tr>\n      <th>1</th>\n      <td>1960</td>\n      <td>2</td>\n      <td>青森県</td>\n      <td>1426606.0</td>\n    </tr>\n    <tr>\n      <th>2</th>\n      <td>1960</td>\n      <td>3</td>\n      <td>岩手県</td>\n      <td>1448517.0</td>\n    </tr>\n    <tr>\n      <th>3</th>\n      <td>1960</td>\n      <td>4</td>\n      <td>宮城県</td>\n      <td>1743195.0</td>\n    </tr>\n    <tr>\n      <th>4</th>\n      <td>1960</td>\n      <td>5</td>\n      <td>秋田県</td>\n      <td>1335580.0</td>\n    </tr>\n  </tbody>\n</table>\n</div>"
     },
     "metadata": {},
     "execution_count": 2
    }
   ],
   "source": [
    "# 人口構成のCSVファイルの読み込み\n",
    "df = pd.read_csv(\"population_data/japan_population.csv\")\n",
    "df.head()"
   ]
  },
  {
   "cell_type": "code",
   "execution_count": 3,
   "metadata": {},
   "outputs": [
    {
     "output_type": "execute_result",
     "data": {
      "text/plain": "(3055, 4)"
     },
     "metadata": {},
     "execution_count": 3
    }
   ],
   "source": [
    "# 全件数の確認\n",
    "df.shape"
   ]
  },
  {
   "cell_type": "code",
   "execution_count": 4,
   "metadata": {},
   "outputs": [
    {
     "output_type": "execute_result",
     "data": {
      "text/plain": "      集計年  都道府県コード 都道府県名         総人口\n12   1960       13   東京都   9683802.0\n59   1961       13   東京都   9967000.0\n106  1962       13   東京都  10224000.0\n153  1963       13   東京都  10470000.0\n200  1964       13   東京都  10668000.0\n247  1965       13   東京都  10869244.0\n294  1966       13   東京都  11018000.0\n341  1967       13   東京都  11162000.0\n388  1968       13   東京都  11286000.0\n435  1969       13   東京都  11367000.0",
      "text/html": "<div>\n<style scoped>\n    .dataframe tbody tr th:only-of-type {\n        vertical-align: middle;\n    }\n\n    .dataframe tbody tr th {\n        vertical-align: top;\n    }\n\n    .dataframe thead th {\n        text-align: right;\n    }\n</style>\n<table border=\"1\" class=\"dataframe\">\n  <thead>\n    <tr style=\"text-align: right;\">\n      <th></th>\n      <th>集計年</th>\n      <th>都道府県コード</th>\n      <th>都道府県名</th>\n      <th>総人口</th>\n    </tr>\n  </thead>\n  <tbody>\n    <tr>\n      <th>12</th>\n      <td>1960</td>\n      <td>13</td>\n      <td>東京都</td>\n      <td>9683802.0</td>\n    </tr>\n    <tr>\n      <th>59</th>\n      <td>1961</td>\n      <td>13</td>\n      <td>東京都</td>\n      <td>9967000.0</td>\n    </tr>\n    <tr>\n      <th>106</th>\n      <td>1962</td>\n      <td>13</td>\n      <td>東京都</td>\n      <td>10224000.0</td>\n    </tr>\n    <tr>\n      <th>153</th>\n      <td>1963</td>\n      <td>13</td>\n      <td>東京都</td>\n      <td>10470000.0</td>\n    </tr>\n    <tr>\n      <th>200</th>\n      <td>1964</td>\n      <td>13</td>\n      <td>東京都</td>\n      <td>10668000.0</td>\n    </tr>\n    <tr>\n      <th>247</th>\n      <td>1965</td>\n      <td>13</td>\n      <td>東京都</td>\n      <td>10869244.0</td>\n    </tr>\n    <tr>\n      <th>294</th>\n      <td>1966</td>\n      <td>13</td>\n      <td>東京都</td>\n      <td>11018000.0</td>\n    </tr>\n    <tr>\n      <th>341</th>\n      <td>1967</td>\n      <td>13</td>\n      <td>東京都</td>\n      <td>11162000.0</td>\n    </tr>\n    <tr>\n      <th>388</th>\n      <td>1968</td>\n      <td>13</td>\n      <td>東京都</td>\n      <td>11286000.0</td>\n    </tr>\n    <tr>\n      <th>435</th>\n      <td>1969</td>\n      <td>13</td>\n      <td>東京都</td>\n      <td>11367000.0</td>\n    </tr>\n  </tbody>\n</table>\n</div>"
     },
     "metadata": {},
     "execution_count": 4
    }
   ],
   "source": [
    "tokyo = df[df[\"都道府県名\"] == \"東京都\"]\n",
    "tokyo.head(10)"
   ]
  },
  {
   "cell_type": "code",
   "execution_count": null,
   "metadata": {},
   "outputs": [],
   "source": []
  }
 ],
 "metadata": {
  "language_info": {
   "codemirror_mode": {
    "name": "ipython",
    "version": 3
   },
   "file_extension": ".py",
   "mimetype": "text/x-python",
   "name": "python",
   "nbconvert_exporter": "python",
   "pygments_lexer": "ipython3",
   "version": "3.8.2-final"
  },
  "orig_nbformat": 2,
  "kernelspec": {
   "name": "python38264bit0b4eb1e0590b40f1b4ba4ed71fbda079",
   "display_name": "Python 3.8.2 64-bit"
  }
 },
 "nbformat": 4,
 "nbformat_minor": 2
}