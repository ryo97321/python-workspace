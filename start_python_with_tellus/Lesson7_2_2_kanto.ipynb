{
 "cells": [
  {
   "cell_type": "code",
   "execution_count": 1,
   "metadata": {},
   "outputs": [],
   "source": [
    "# 必要なライブラリのインポート\n",
    "import pandas as pd\n",
    "import numpy as np\n",
    "from sklearn.linear_model import LinearRegression\n",
    "from sklearn.ensemble import RandomForestRegressor\n",
    "from sklearn.svm import SVR"
   ]
  },
  {
   "cell_type": "code",
   "execution_count": 2,
   "metadata": {},
   "outputs": [
    {
     "output_type": "execute_result",
     "data": {
      "text/plain": "    集計年  都道府県コード 都道府県名        総人口\n0  1960        1   北海道  5039206.0\n1  1960        2   青森県  1426606.0\n2  1960        3   岩手県  1448517.0\n3  1960        4   宮城県  1743195.0\n4  1960        5   秋田県  1335580.0",
      "text/html": "<div>\n<style scoped>\n    .dataframe tbody tr th:only-of-type {\n        vertical-align: middle;\n    }\n\n    .dataframe tbody tr th {\n        vertical-align: top;\n    }\n\n    .dataframe thead th {\n        text-align: right;\n    }\n</style>\n<table border=\"1\" class=\"dataframe\">\n  <thead>\n    <tr style=\"text-align: right;\">\n      <th></th>\n      <th>集計年</th>\n      <th>都道府県コード</th>\n      <th>都道府県名</th>\n      <th>総人口</th>\n    </tr>\n  </thead>\n  <tbody>\n    <tr>\n      <th>0</th>\n      <td>1960</td>\n      <td>1</td>\n      <td>北海道</td>\n      <td>5039206.0</td>\n    </tr>\n    <tr>\n      <th>1</th>\n      <td>1960</td>\n      <td>2</td>\n      <td>青森県</td>\n      <td>1426606.0</td>\n    </tr>\n    <tr>\n      <th>2</th>\n      <td>1960</td>\n      <td>3</td>\n      <td>岩手県</td>\n      <td>1448517.0</td>\n    </tr>\n    <tr>\n      <th>3</th>\n      <td>1960</td>\n      <td>4</td>\n      <td>宮城県</td>\n      <td>1743195.0</td>\n    </tr>\n    <tr>\n      <th>4</th>\n      <td>1960</td>\n      <td>5</td>\n      <td>秋田県</td>\n      <td>1335580.0</td>\n    </tr>\n  </tbody>\n</table>\n</div>"
     },
     "metadata": {},
     "execution_count": 2
    }
   ],
   "source": [
    "# 人口構成のCSVファイルの読み込み\n",
    "df = pd.read_csv(\"population_data/japan_population.csv\")\n",
    "df.head()"
   ]
  },
  {
   "cell_type": "code",
   "execution_count": 3,
   "metadata": {},
   "outputs": [
    {
     "output_type": "execute_result",
     "data": {
      "text/plain": "array([[      1,       0,       0,       0,       0,       0, 2047024],\n       [      0,       1,       0,       0,       0,       0, 1513624],\n       [      0,       0,       1,       0,       0,       0, 1578476],\n       [      0,       0,       0,       1,       0,       0, 2430871],\n       [      0,       0,       0,       0,       1,       0, 2306010],\n       [      0,       0,       0,       0,       0,       1, 9683802],\n       [      0,       0,       0,       0,       0,       0, 3443176],\n       [      1,       0,       0,       0,       0,       0, 2053000],\n       [      0,       1,       0,       0,       0,       0, 1513000],\n       [      0,       0,       1,       0,       0,       0, 1581000]],\n      dtype=uint32)"
     },
     "metadata": {},
     "execution_count": 3
    }
   ],
   "source": [
    "# 1960年から2015年までの関東地方各県の総人口データを機械学習にかける\n",
    "# ある年の都道府県コードと総人口数を説明変数X, その翌年の総人口数を目的変数yに設定する\n",
    "# Xは縦56x7行の横2列, yは縦56x7行の横1列でndarrayを作成する\n",
    "X = np.zeros((56 * 7, 7), dtype=np.uint32)\n",
    "y = np.zeros(56 * 7, dtype=np.uint32)\n",
    "\n",
    "cnt = 0\n",
    "for i in range(56 * 47):\n",
    "    pref_id = df.iloc[i, 1]\n",
    "    population = df.iloc[i, 3]\n",
    "    next_population = df.iloc[i+47, 3]\n",
    "\n",
    "    if pref_id >= 8 and pref_id <= 14:\n",
    "        if pref_id < 14:\n",
    "            X[cnt][pref_id - 8] = 1\n",
    "        \n",
    "        X[cnt][6] = population\n",
    "        y[cnt] = next_population\n",
    "        cnt += 1\n",
    "\n",
    "# Xを確認\n",
    "X[0:10]"
   ]
  },
  {
   "cell_type": "code",
   "execution_count": 4,
   "metadata": {},
   "outputs": [
    {
     "output_type": "execute_result",
     "data": {
      "text/plain": "array([2053000, 1513000, 1581000, 2497000, 2356000, 9967000, 3606000,\n       2056000, 1513000, 1584000], dtype=uint32)"
     },
     "metadata": {},
     "execution_count": 4
    }
   ],
   "source": [
    "# yを確認\n",
    "y[0:10]"
   ]
  },
  {
   "cell_type": "code",
   "execution_count": 5,
   "metadata": {},
   "outputs": [],
   "source": [
    "# 1960年から2009年までを訓練データ\n",
    "# 2010年以降のデータをテストデータとして分割する\n",
    "X_train = X[:350]\n",
    "X_test = X[350:]\n",
    "y_train = y[:350]\n",
    "y_test = y[350:]"
   ]
  },
  {
   "cell_type": "code",
   "execution_count": 22,
   "metadata": {},
   "outputs": [
    {
     "output_type": "execute_result",
     "data": {
      "text/plain": "LinearRegression(copy_X=True, fit_intercept=True, n_jobs=-1, normalize=False)"
     },
     "metadata": {},
     "execution_count": 22
    }
   ],
   "source": [
    "# LinearRegrassionで回帰モデルを作成\n",
    "model1 = LinearRegression(n_jobs=-1)\n",
    "model1.fit(X_train, y_train)"
   ]
  },
  {
   "cell_type": "code",
   "execution_count": 23,
   "metadata": {},
   "outputs": [
    {
     "output_type": "execute_result",
     "data": {
      "text/plain": "array([ 2976504,  2011342,  2011854,  7234625,  6247455, 13182582,\n        9095368,  2967043,  2003902,  2005009,  7248612,  6248144,\n       13219973,  9106668,  2954454,  1996155,  1998231,  7255390,\n        6231681, 13254834,  9116352,  2944770,  1990345,  1990484,\n        7267011,  6232650, 13325526,  9129909,  2935086,  1984534,\n        1983705,  7285410,  6240397, 13414617,  9148308,  2925379,\n        1978971,  1978006,  7304327,  6253631, 13527211,  9170788],\n      dtype=uint32)"
     },
     "metadata": {},
     "execution_count": 23
    }
   ],
   "source": [
    "# LiearRegressionで予測実行\n",
    "y_pred1 = model1.predict(X_test)\n",
    "y_pred1 = y_pred1.astype(np.uint32)\n",
    "y_pred1"
   ]
  },
  {
   "cell_type": "code",
   "execution_count": 24,
   "metadata": {},
   "outputs": [
    {
     "output_type": "execute_result",
     "data": {
      "text/plain": "array([ 2960000,  2000000,  2001000,  7209000,  6217000, 13198000,\n        9060000,  2947000,  1992000,  1994000,  7216000,  6200000,\n       13234000,  9070000,  2937000,  1986000,  1986000,  7228000,\n        6201000, 13307000,  9084000,  2927000,  1980000,  1979000,\n        7247000,  6209000, 13399000,  9103000,  2916976,  1974255,\n        1973115,  7266534,  6222666, 13515271,  9126214,  2905000,\n        1966000,  1967000,  7289000,  6236000, 13624000,  9145000],\n      dtype=uint32)"
     },
     "metadata": {},
     "execution_count": 24
    }
   ],
   "source": [
    "# 正解の表示\n",
    "y_test"
   ]
  },
  {
   "cell_type": "code",
   "execution_count": 13,
   "metadata": {},
   "outputs": [
    {
     "output_type": "execute_result",
     "data": {
      "text/plain": "RandomForestRegressor(bootstrap=True, ccp_alpha=0.0, criterion='mse',\n                      max_depth=None, max_features='auto', max_leaf_nodes=None,\n                      max_samples=None, min_impurity_decrease=0.0,\n                      min_impurity_split=None, min_samples_leaf=1,\n                      min_samples_split=2, min_weight_fraction_leaf=0.0,\n                      n_estimators=100, n_jobs=None, oob_score=False,\n                      random_state=None, verbose=0, warm_start=False)"
     },
     "metadata": {},
     "execution_count": 13
    }
   ],
   "source": [
    "# RandomForestRegressorで回帰モデルを作成\n",
    "model2 = RandomForestRegressor(n_estimators=100)\n",
    "model2.fit(X_train, y_train)"
   ]
  },
  {
   "cell_type": "code",
   "execution_count": 15,
   "metadata": {},
   "outputs": [
    {
     "output_type": "execute_result",
     "data": {
      "text/plain": "array([ 2970787,  2011287,  2012098,  7267193,  6277202, 13112857,\n        9017121,  2968080,  2003827,  2004050,  7270453,  6277202,\n       13112857,  9017121,  2959630,  1996470,  2002272,  7270453,\n        6259782, 13112857,  9017121,  2954037,  1991111,  1990592,\n        7278422,  6259782, 13112857,  9017121,  2946647,  1986501,\n        1984223,  7320461,  6277202, 13112857,  9017121,  2942240,\n        1983151,  1982962,  7320461,  6306236, 13112857,  9017121],\n      dtype=uint32)"
     },
     "metadata": {},
     "execution_count": 15
    }
   ],
   "source": [
    "# 予測実行と表示\n",
    "y_pred2 = model2.predict(X_test)\n",
    "y_pred2 = y_pred2.astype(np.uint32)\n",
    "y_pred2"
   ]
  },
  {
   "cell_type": "code",
   "execution_count": 16,
   "metadata": {},
   "outputs": [
    {
     "output_type": "execute_result",
     "data": {
      "text/plain": "array([ 2960000,  2000000,  2001000,  7209000,  6217000, 13198000,\n        9060000,  2947000,  1992000,  1994000,  7216000,  6200000,\n       13234000,  9070000,  2937000,  1986000,  1986000,  7228000,\n        6201000, 13307000,  9084000,  2927000,  1980000,  1979000,\n        7247000,  6209000, 13399000,  9103000,  2916976,  1974255,\n        1973115,  7266534,  6222666, 13515271,  9126214,  2905000,\n        1966000,  1967000,  7289000,  6236000, 13624000,  9145000],\n      dtype=uint32)"
     },
     "metadata": {},
     "execution_count": 16
    }
   ],
   "source": [
    "y_test"
   ]
  },
  {
   "cell_type": "code",
   "execution_count": 17,
   "metadata": {},
   "outputs": [
    {
     "output_type": "execute_result",
     "data": {
      "text/plain": "SVR(C=1.0, cache_size=200, coef0=0.0, degree=3, epsilon=0.1, gamma='scale',\n    kernel='rbf', max_iter=-1, shrinking=True, tol=0.001, verbose=False)"
     },
     "metadata": {},
     "execution_count": 17
    }
   ],
   "source": [
    "# SVRで回帰モデルを作成\n",
    "model3 = SVR(gamma='scale')\n",
    "model3.fit(X_train, y_train)"
   ]
  },
  {
   "cell_type": "code",
   "execution_count": 18,
   "metadata": {},
   "outputs": [
    {
     "output_type": "execute_result",
     "data": {
      "text/plain": "array([3928213, 3928193, 3928193, 3928350, 3928321, 3928364, 3928382,\n       3928213, 3928192, 3928192, 3928350, 3928321, 3928364, 3928383,\n       3928213, 3928192, 3928192, 3928350, 3928320, 3928363, 3928383,\n       3928212, 3928192, 3928192, 3928350, 3928320, 3928362, 3928383,\n       3928212, 3928192, 3928192, 3928351, 3928321, 3928361, 3928383,\n       3928212, 3928192, 3928192, 3928351, 3928321, 3928359, 3928383],\n      dtype=uint32)"
     },
     "metadata": {},
     "execution_count": 18
    }
   ],
   "source": [
    "# 予測実行と表示\n",
    "y_pred3 = model3.predict(X_test)\n",
    "y_pred3 = y_pred3.astype(np.uint32)\n",
    "y_pred3"
   ]
  },
  {
   "cell_type": "code",
   "execution_count": null,
   "metadata": {},
   "outputs": [],
   "source": []
  }
 ],
 "metadata": {
  "language_info": {
   "codemirror_mode": {
    "name": "ipython",
    "version": 3
   },
   "file_extension": ".py",
   "mimetype": "text/x-python",
   "name": "python",
   "nbconvert_exporter": "python",
   "pygments_lexer": "ipython3",
   "version": "3.8.2-final"
  },
  "orig_nbformat": 2,
  "kernelspec": {
   "name": "python38264bit0b4eb1e0590b40f1b4ba4ed71fbda079",
   "display_name": "Python 3.8.2 64-bit"
  }
 },
 "nbformat": 4,
 "nbformat_minor": 2
}